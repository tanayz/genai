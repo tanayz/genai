{
 "cells": [
  {
   "cell_type": "code",
   "execution_count": 11,
   "id": "07ff4d18-1140-446b-bd45-905990263cb3",
   "metadata": {
    "tags": []
   },
   "outputs": [],
   "source": [
    "# %pip install --upgrade pip\n",
    "# %pip install boto3>=1.34.74 --force-reinstall --quiet\n",
    "# %pip install botocore --force-reinstall --quiet\n",
    "# %pip install sqlalchemy==2.0.0 --quiet\n",
    "# %pip install langchain --force-reinstall --quiet"
   ]
  },
  {
   "cell_type": "code",
   "execution_count": 1,
   "id": "d2d70394-5976-4376-bf18-b505783fe6a3",
   "metadata": {},
   "outputs": [],
   "source": [
    "kb_id = \"<redacted>\""
   ]
  },
  {
   "cell_type": "code",
   "execution_count": 2,
   "id": "1cc1b570-2eba-455f-8fb5-44df2d837eca",
   "metadata": {
    "tags": []
   },
   "outputs": [
    {
     "name": "stdout",
     "output_type": "stream",
     "text": [
      "us-east-1\n"
     ]
    }
   ],
   "source": [
    "import boto3\n",
    "import pprint\n",
    "from botocore.client import Config\n",
    "import json\n",
    "\n",
    "pp = pprint.PrettyPrinter(indent=2)\n",
    "session = boto3.session.Session()\n",
    "region = session.region_name\n",
    "bedrock_config = Config(connect_timeout=120, read_timeout=120, retries={'max_attempts': 0})\n",
    "bedrock_client = boto3.client('bedrock-runtime', region_name = region)\n",
    "bedrock_agent_client = boto3.client(\"bedrock-agent-runtime\",\n",
    "                              config=bedrock_config, region_name = region)\n",
    "print(region)"
   ]
  },
  {
   "cell_type": "code",
   "execution_count": 5,
   "id": "d755294f-4d4c-4c58-9dd8-b109c317de5c",
   "metadata": {
    "tags": []
   },
   "outputs": [],
   "source": [
    "def retrieve(query, kbId, numberOfResults=5):\n",
    "    return bedrock_agent_client.retrieve(\n",
    "        retrievalQuery= {\n",
    "            'text': query\n",
    "        },\n",
    "        knowledgeBaseId=kbId,\n",
    "        retrievalConfiguration= {\n",
    "            'vectorSearchConfiguration': {\n",
    "                'numberOfResults': numberOfResults,\n",
    "                 \"filter\": {\n",
    "                            'andAll':[\n",
    "                                {\n",
    "                                \"greaterThan\": {\n",
    "                                \"key\": \"n_ingredients\",\n",
    "                                \"value\": 2\n",
    "                                }\n",
    "                            },\n",
    "                                {\n",
    "                            \"lessThan\": {\n",
    "                                \"key\": \"minutes\",\n",
    "                                \"value\": 30\n",
    "                            }\n",
    "                                }\n",
    "                            ]\n",
    "                        }\n",
    "                # 'overrideSearchType': \"HYBRID\", # optional\n",
    "            }\n",
    "        }\n",
    "    )"
   ]
  },
  {
   "cell_type": "code",
   "execution_count": 7,
   "id": "44699dca-33ac-4ecd-b09b-a58e7698c940",
   "metadata": {
    "tags": []
   },
   "outputs": [
    {
     "name": "stdout",
     "output_type": "stream",
     "text": [
      "[ { 'content': {'text': 'quick and easy.'},\n",
      "    'location': {'s3Location': {'uri': 's3://test-kb1/1085.txt'}, 'type': 'S3'},\n",
      "    'metadata': { 'minutes': '25',\n",
      "                  'n_ingredients': '3',\n",
      "                  'name': '2  step pasta sensation',\n",
      "                  'steps': \"['toss hot pasta with cheese and dressing', \"\n",
      "                           '\"that\\'s it that\\'s all !\"]',\n",
      "                  'x-amz-bedrock-kb-source-uri': 's3://test-kb1/1085.txt'},\n",
      "    'score': 1.3354759},\n",
      "  { 'content': { 'text': 'this is a fastest low-carb mocha you can make '\n",
      "                         'without buying a lot of expensive diet-sugars.  the '\n",
      "                         'nesquick tastes just like sugary nesquick.'},\n",
      "    'location': {'s3Location': {'uri': 's3://test-kb1/809.txt'}, 'type': 'S3'},\n",
      "    'metadata': { 'minutes': '1',\n",
      "                  'n_ingredients': '3',\n",
      "                  'name': '10 carb mocha',\n",
      "                  'steps': '[\\'combine the above\\', \"this can be easily made '\n",
      "                           'into cold mocha or a shake , just add ice-cubes ! '\n",
      "                           \"this way you don't have to worry about dissolving \"\n",
      "                           'clumpy baking chocolate\"]',\n",
      "                  'x-amz-bedrock-kb-source-uri': 's3://test-kb1/809.txt'},\n",
      "    'score': 1.3039781},\n",
      "  { 'content': {'text': 'you gotta a kitchen you got pasta.. you got a meal!'},\n",
      "    'location': {'s3Location': {'uri': 's3://test-kb1/1112.txt'}, 'type': 'S3'},\n",
      "    'metadata': { 'minutes': '25',\n",
      "                  'n_ingredients': '5',\n",
      "                  'name': '20 minute pasta bake',\n",
      "                  'steps': \"['cook pasta 8 minutes while cooking ground beef \"\n",
      "                           \"over medium high heat', 'mix meat , pasta , and \"\n",
      "                           \"sauce', 'cover with cheese', 'bake at 325 for 15 \"\n",
      "                           \"minutes']\",\n",
      "                  'x-amz-bedrock-kb-source-uri': 's3://test-kb1/1112.txt'},\n",
      "    'score': 1.3037729}]\n"
     ]
    }
   ],
   "source": [
    "query = \"Can you give me quick breakfast menu?\"\n",
    "response = retrieve(query, kb_id, 3)\n",
    "retrievalResults = response['retrievalResults']\n",
    "pp.pprint(retrievalResults)"
   ]
  },
  {
   "cell_type": "code",
   "execution_count": 8,
   "id": "e1d222b2-8662-4b8f-afc5-4da1423ddc2e",
   "metadata": {
    "tags": []
   },
   "outputs": [],
   "source": [
    "# fetch context from the response\n",
    "def get_contexts(retrievalResults):\n",
    "    contexts = []\n",
    "    for retrievedResult in retrievalResults: \n",
    "        contexts.append(retrievedResult['content']['text'])\n",
    "    return contexts"
   ]
  },
  {
   "cell_type": "code",
   "execution_count": 9,
   "id": "d8d8ad95-a813-4297-8b23-0052b8ad56c3",
   "metadata": {
    "tags": []
   },
   "outputs": [],
   "source": [
    "contexts = get_contexts(retrievalResults)\n",
    "# pp.pprint(contexts)"
   ]
  },
  {
   "cell_type": "code",
   "execution_count": 10,
   "id": "d9d4022d-e032-4f4c-b665-7e68e55df1e5",
   "metadata": {
    "tags": []
   },
   "outputs": [],
   "source": [
    "# from langchain.llms.bedrock import Bedrock\n",
    "import langchain\n",
    "from langchain_community.chat_models.bedrock import BedrockChat\n",
    "from langchain.retrievers.bedrock import AmazonKnowledgeBasesRetriever\n",
    "modelId = 'anthropic.claude-3-sonnet-20240229-v1:0'\n",
    "llm = BedrockChat(model_id=modelId, \n",
    "                  client=bedrock_client)"
   ]
  },
  {
   "cell_type": "code",
   "execution_count": 13,
   "id": "14b70262-bdf3-44f4-b1e7-de7402611774",
   "metadata": {
    "tags": []
   },
   "outputs": [],
   "source": [
    "query = \"Could you provide me a quick breakfast menu?\"\n",
    "retriever = AmazonKnowledgeBasesRetriever(\n",
    "        knowledge_base_id=kb_id,\n",
    "        retrieval_config={            'vectorSearchConfiguration': {\n",
    "                'numberOfResults': 3,\n",
    "                 \"filter\": {\n",
    "                            'andAll':[\n",
    "                                {\n",
    "                                \"greaterThan\": {\n",
    "                                \"key\": \"n_ingredients\",\n",
    "                                \"value\": 2\n",
    "                                }\n",
    "                            },\n",
    "                                {\n",
    "                            \"lessThan\": {\n",
    "                                \"key\": \"minutes\",\n",
    "                                \"value\": 30\n",
    "                            }\n",
    "                                }\n",
    "                            ]\n",
    "                        }\n",
    "                # 'overrideSearchType': \"HYBRID\", # optional\n",
    "            }                          },\n",
    "\n",
    "    )\n",
    "docs = retriever.get_relevant_documents(\n",
    "        query=query\n",
    "    )\n",
    "# pp.pprint(docs)"
   ]
  },
  {
   "cell_type": "code",
   "execution_count": 14,
   "id": "7948e0f7-b7ce-4e64-8fcb-c8189305f166",
   "metadata": {
    "tags": []
   },
   "outputs": [],
   "source": [
    "from langchain.prompts import PromptTemplate\n",
    "\n",
    "PROMPT_TEMPLATE = \"\"\"\n",
    "Human: You have great knowledge about food,so provide answers to questions by using fact based and statistical information when possible. \n",
    "Use the following pieces of information to provide a concise answer to the question enclosed in <question> tags. \n",
    "If you don't know the answer, just say that you don't know, don't try to make up an answer.\n",
    "<context>\n",
    "{context}\n",
    "</context>\n",
    "\n",
    "<question>\n",
    "{question}\n",
    "</question>\n",
    "\n",
    "The response should be specific .\n",
    "\n",
    "Assistant:\"\"\"\n",
    "claude_prompt = PromptTemplate(template=PROMPT_TEMPLATE, \n",
    "                               input_variables=[\"context\",\"question\"])"
   ]
  },
  {
   "cell_type": "code",
   "execution_count": 15,
   "id": "cb5022cb-0987-4954-a6a5-319f4105f881",
   "metadata": {
    "tags": []
   },
   "outputs": [],
   "source": [
    "from langchain.chains import RetrievalQA\n",
    "\n",
    "qa = RetrievalQA.from_chain_type(\n",
    "    llm=llm,\n",
    "    chain_type=\"stuff\",\n",
    "    retriever=retriever,\n",
    "    return_source_documents=True,\n",
    "    chain_type_kwargs={\"prompt\": claude_prompt}\n",
    ")"
   ]
  },
  {
   "cell_type": "code",
   "execution_count": 16,
   "id": "45871f72-0261-4aaa-989c-1a1edc348157",
   "metadata": {
    "tags": []
   },
   "outputs": [
    {
     "name": "stdout",
     "output_type": "stream",
     "text": [
      "{ 'query': 'Could you provide me a quick breakfast menu?',\n",
      "  'result': 'Based on the provided context, here is a concise suggested quick '\n",
      "            'breakfast menu:\\n'\n",
      "            '\\n'\n",
      "            '<answer>\\n'\n",
      "            'A healthy breakfast smoothie made with a banana, dates for '\n",
      "            'natural sweetness, and other ingredients you have on hand like '\n",
      "            'yogurt, milk, nut butter, etc.\\n'\n",
      "            '\\n'\n",
      "            'Or, if you prefer something savory, boiled or scrambled eggs with '\n",
      "            'toast made from sliced bread or pasta like the context mentions '\n",
      "            '\"if you\\'ve got a kitchen you\\'ve got pasta..you\\'ve got a '\n",
      "            'meal!\"\\n'\n",
      "            '</answer>\\n'\n",
      "            '\\n'\n",
      "            \"I've suggested two quick breakfast options - a fruit smoothie or \"\n",
      "            'eggs with toast/pasta, utilizing the ingredients and ideas '\n",
      "            'mentioned in the given context. Let me know if you need any '\n",
      "            'clarification or have an additional request.',\n",
      "  'source_documents': [ Document(page_content='quick and easy.', metadata={'location': {'s3Location': {'uri': 's3://test-kb1/1085.txt'}, 'type': 'S3'}, 'score': 1.3452507}),\n",
      "                        Document(page_content='you gotta a kitchen you got pasta.. you got a meal!', metadata={'location': {'s3Location': {'uri': 's3://test-kb1/1112.txt'}, 'type': 'S3'}, 'score': 1.3206414}),\n",
      "                        Document(page_content='a healthy breakfast smoothie naturally sweetened by the date and banana.', metadata={'location': {'s3Location': {'uri': 's3://test-kb1/1883.txt'}, 'type': 'S3'}, 'score': 1.3168365})]}\n"
     ]
    }
   ],
   "source": [
    "answer = qa.invoke(query)\n",
    "pp.pprint(answer)"
   ]
  },
  {
   "cell_type": "code",
   "execution_count": 23,
   "id": "8d451dc1-8012-4580-9e40-fd920dac23aa",
   "metadata": {
    "tags": []
   },
   "outputs": [],
   "source": [
    "prompt = f\"\"\"\n",
    "Human: You are a human resource AI system, and provides answers to questions by using fact based and statistical information when possible. \n",
    "Use the following pieces of information to provide a concise answer to the question enclosed in <question> tags. \n",
    "If you don't know the answer, just say that you don't know, don't try to make up an answer.\n",
    "<context>\n",
    "{contexts}\n",
    "</context>\n",
    "\n",
    "<question>\n",
    "{query}\n",
    "</question>\n",
    "\n",
    "The response should be specific and use statistics or numbers when possible.\n",
    "\n",
    "Assistant:\"\"\""
   ]
  },
  {
   "cell_type": "code",
   "execution_count": 25,
   "id": "78a5801c-128f-407f-b2e6-084c99308a76",
   "metadata": {
    "tags": []
   },
   "outputs": [
    {
     "name": "stdout",
     "output_type": "stream",
     "text": [
      "('Based on the information provided in the context, to order a computer for '\n",
      " 'your new hire in the US as a manager, you should:\\n'\n",
      " '\\n'\n",
      " '1. Partner with the onboarding team to determine if your new hire requires a '\n",
      " 'laptop or desktop computer. This seems to be the first step before ordering '\n",
      " 'any IT equipment.\\n'\n",
      " '\\n'\n",
      " '2. If a computer is required, you can order it through the Access Services '\n",
      " 'Catalogue at '\n",
      " 'https://servicecatalog.azure.bakerhughes.com/usm/wpf?Node=icguinode.catalogitemdetails&Args=10361&ObjectID=10361&NspPath=&searchIn=&searchInstr=Entire%20Catalog. '\n",
      " 'The catalogue provides options like standard desktop, standard laptop, '\n",
      " 'executive laptop, engineering laptop, and engineering grade desktop.\\n'\n",
      " '\\n'\n",
      " '3. The ordered computer will come pre-loaded with standard software like '\n",
      " 'Advantage, Envision, etc. A docking station, 1 monitor, mouse and keyboard '\n",
      " 'will also be shipped to the new hire.\\n'\n",
      " '\\n'\n",
      " '4. If any additional hardware like extra monitors are needed, you as the '\n",
      " 'manager can order those through the same Ariba Service Catalog.\\n'\n",
      " '\\n'\n",
      " 'The context does not provide specific statistics or numbers regarding '\n",
      " 'computer orders, but outlines the process clearly for ordering IT equipment '\n",
      " 'for new hires in the US through the onboarding team and Service Catalog.')\n"
     ]
    }
   ],
   "source": [
    "# payload with model paramters\n",
    "messages=[{ \"role\":'user', \"content\":[{'type':'text','text': prompt.format(contexts, query)}]}]\n",
    "sonnet_payload = json.dumps({\n",
    "    \"anthropic_version\": \"bedrock-2023-05-31\",\n",
    "    \"max_tokens\": 512,\n",
    "    \"messages\": messages,\n",
    "    \"temperature\": 0.5,\n",
    "    \"top_p\": 1\n",
    "        }  )\n",
    "\n",
    "modelId = 'anthropic.claude-3-sonnet-20240229-v1:0' # change this to use a different version from the model provider\n",
    "accept = 'application/json'\n",
    "contentType = 'application/json'\n",
    "response = bedrock_client.invoke_model(body=sonnet_payload, modelId=modelId, accept=accept, contentType=contentType)\n",
    "response_body = json.loads(response.get('body').read())\n",
    "response_text = response_body.get('content')[0]['text']\n",
    "\n",
    "pp.pprint(response_text)"
   ]
  },
  {
   "cell_type": "code",
   "execution_count": 17,
   "id": "064081da-a3bc-47b6-a505-87f00360100e",
   "metadata": {
    "tags": []
   },
   "outputs": [],
   "source": [
    "prompt2 = f\"\"\"\n",
    "Human: You have great knowledge about food,so provide answers to questions by using fact based and statistical information when possible. \n",
    "If you don't know the answer, just say that you don't know, don't try to make up an answer.\n",
    "\n",
    "The response should be specific and use statistics or numbers when possible.\n",
    "\n",
    "Assistant:\"\"\"\n",
    "modelId = 'anthropic.claude-3-sonnet-20240229-v1:0'"
   ]
  },
  {
   "cell_type": "code",
   "execution_count": 18,
   "id": "9064898e-62d8-439f-ba6b-057d2dcb1477",
   "metadata": {},
   "outputs": [],
   "source": [
    "def retrieve_and_generate(query, kb_id,modelId, numberOfResults=5):\n",
    "    return bedrock_agent_client.retrieve_and_generate(\n",
    "        input= {\n",
    "            'text': query,\n",
    "        },\n",
    "        retrieveAndGenerateConfiguration={\n",
    "        'knowledgeBaseConfiguration': {\n",
    "            'generationConfiguration': {\n",
    "                'promptTemplate': {\n",
    "                    'textPromptTemplate': f\"{prompt2} $search_results$\"\n",
    "                }\n",
    "            },\n",
    "            'knowledgeBaseId': kb_id,\n",
    "            'modelArn': modelId,\n",
    "            'retrievalConfiguration': {\n",
    "                'vectorSearchConfiguration': {\n",
    "                    'numberOfResults': numberOfResults,\n",
    "                    'overrideSearchType': 'HYBRID',\n",
    "                     \"filter\": {\n",
    "                            'andAll':[\n",
    "                                {\n",
    "                                \"greaterThan\": {\n",
    "                                \"key\": \"n_ingredients\",\n",
    "                                \"value\": 2\n",
    "                                }\n",
    "                            },\n",
    "                                {\n",
    "                            \"lessThan\": {\n",
    "                                \"key\": \"minutes\",\n",
    "                                \"value\": 30\n",
    "                            }\n",
    "                                }\n",
    "                            ]\n",
    "                        },\n",
    "                }\n",
    "        }\n",
    "                    },\n",
    "        'type': 'KNOWLEDGE_BASE'\n",
    "    }\n",
    "    )"
   ]
  },
  {
   "cell_type": "code",
   "execution_count": 21,
   "id": "64375d10-43e7-45a8-a2b1-4142a1d70316",
   "metadata": {},
   "outputs": [
    {
     "name": "stdout",
     "output_type": "stream",
     "text": [
      "(\"Here's a suggested quick and healthy breakfast menu with some facts and \"\n",
      " 'statistics:\\n'\n",
      " '\\n'\n",
      " '1. Overnight Oats: Mix 1/2 cup rolled oats with 1/2 cup milk or yogurt, add '\n",
      " 'fruits like berries or bananas, and let it soak overnight. Oats are a great '\n",
      " 'source of fiber - one cup of oats contains about 4 grams of fiber which is '\n",
      " '16% of the recommended daily intake.\\n'\n",
      " '\\n'\n",
      " '2. Greek Yogurt Parfait: Layer Greek yogurt with fresh or frozen fruits and '\n",
      " 'a sprinkle of granola or nuts. Greek yogurt is an excellent source of '\n",
      " 'protein - one 6-ounce serving contains around 15-20 grams of protein.\\n'\n",
      " '\\n'\n",
      " '3. Whole Grain Toast with Avocado: Toast a slice of whole-grain bread and '\n",
      " 'top it with mashed avocado, a sprinkle of salt, and pepper. Avocados are '\n",
      " 'rich in healthy monounsaturated fats and provide nearly 20 vitamins and '\n",
      " 'minerals.\\n'\n",
      " '\\n'\n",
      " '4. Smoothie: Blend together fruits like bananas, berries, spinach or kale, '\n",
      " 'milk or yogurt, and a spoonful of nut butter or seeds. According to a study, '\n",
      " 'having a smoothie for breakfast can increase fruit and vegetable intake by '\n",
      " '1.4 servings per day.\\n'\n",
      " '\\n'\n",
      " '5. Hard-boiled Eggs and Fruit: Hard-boil a couple of eggs and pair them with '\n",
      " 'a piece of fresh fruit like an apple or orange. Eggs are an excellent source '\n",
      " 'of protein, with one large egg containing about 6 grams of high-quality '\n",
      " 'protein.\\n'\n",
      " '\\n'\n",
      " 'These options are quick to prepare, nutritious, and can be easily customized '\n",
      " 'to suit your taste preferences.')\n"
     ]
    }
   ],
   "source": [
    "query = \"Could you suggest me a quick breakfast menu?\"\n",
    "response = retrieve_and_generate(query, kb_id,modelId, numberOfResults=5)\n",
    "pp.pprint(response['output']['text'])"
   ]
  },
  {
   "cell_type": "code",
   "execution_count": null,
   "id": "c9fb5785-0b87-4e08-a652-d8f7599f0223",
   "metadata": {},
   "outputs": [],
   "source": []
  }
 ],
 "metadata": {
  "availableInstances": [
   {
    "_defaultOrder": 0,
    "_isFastLaunch": true,
    "category": "General purpose",
    "gpuNum": 0,
    "hideHardwareSpecs": false,
    "memoryGiB": 4,
    "name": "ml.t3.medium",
    "vcpuNum": 2
   },
   {
    "_defaultOrder": 1,
    "_isFastLaunch": false,
    "category": "General purpose",
    "gpuNum": 0,
    "hideHardwareSpecs": false,
    "memoryGiB": 8,
    "name": "ml.t3.large",
    "vcpuNum": 2
   },
   {
    "_defaultOrder": 2,
    "_isFastLaunch": false,
    "category": "General purpose",
    "gpuNum": 0,
    "hideHardwareSpecs": false,
    "memoryGiB": 16,
    "name": "ml.t3.xlarge",
    "vcpuNum": 4
   },
   {
    "_defaultOrder": 3,
    "_isFastLaunch": false,
    "category": "General purpose",
    "gpuNum": 0,
    "hideHardwareSpecs": false,
    "memoryGiB": 32,
    "name": "ml.t3.2xlarge",
    "vcpuNum": 8
   },
   {
    "_defaultOrder": 4,
    "_isFastLaunch": true,
    "category": "General purpose",
    "gpuNum": 0,
    "hideHardwareSpecs": false,
    "memoryGiB": 8,
    "name": "ml.m5.large",
    "vcpuNum": 2
   },
   {
    "_defaultOrder": 5,
    "_isFastLaunch": false,
    "category": "General purpose",
    "gpuNum": 0,
    "hideHardwareSpecs": false,
    "memoryGiB": 16,
    "name": "ml.m5.xlarge",
    "vcpuNum": 4
   },
   {
    "_defaultOrder": 6,
    "_isFastLaunch": false,
    "category": "General purpose",
    "gpuNum": 0,
    "hideHardwareSpecs": false,
    "memoryGiB": 32,
    "name": "ml.m5.2xlarge",
    "vcpuNum": 8
   },
   {
    "_defaultOrder": 7,
    "_isFastLaunch": false,
    "category": "General purpose",
    "gpuNum": 0,
    "hideHardwareSpecs": false,
    "memoryGiB": 64,
    "name": "ml.m5.4xlarge",
    "vcpuNum": 16
   },
   {
    "_defaultOrder": 8,
    "_isFastLaunch": false,
    "category": "General purpose",
    "gpuNum": 0,
    "hideHardwareSpecs": false,
    "memoryGiB": 128,
    "name": "ml.m5.8xlarge",
    "vcpuNum": 32
   },
   {
    "_defaultOrder": 9,
    "_isFastLaunch": false,
    "category": "General purpose",
    "gpuNum": 0,
    "hideHardwareSpecs": false,
    "memoryGiB": 192,
    "name": "ml.m5.12xlarge",
    "vcpuNum": 48
   },
   {
    "_defaultOrder": 10,
    "_isFastLaunch": false,
    "category": "General purpose",
    "gpuNum": 0,
    "hideHardwareSpecs": false,
    "memoryGiB": 256,
    "name": "ml.m5.16xlarge",
    "vcpuNum": 64
   },
   {
    "_defaultOrder": 11,
    "_isFastLaunch": false,
    "category": "General purpose",
    "gpuNum": 0,
    "hideHardwareSpecs": false,
    "memoryGiB": 384,
    "name": "ml.m5.24xlarge",
    "vcpuNum": 96
   },
   {
    "_defaultOrder": 12,
    "_isFastLaunch": false,
    "category": "General purpose",
    "gpuNum": 0,
    "hideHardwareSpecs": false,
    "memoryGiB": 8,
    "name": "ml.m5d.large",
    "vcpuNum": 2
   },
   {
    "_defaultOrder": 13,
    "_isFastLaunch": false,
    "category": "General purpose",
    "gpuNum": 0,
    "hideHardwareSpecs": false,
    "memoryGiB": 16,
    "name": "ml.m5d.xlarge",
    "vcpuNum": 4
   },
   {
    "_defaultOrder": 14,
    "_isFastLaunch": false,
    "category": "General purpose",
    "gpuNum": 0,
    "hideHardwareSpecs": false,
    "memoryGiB": 32,
    "name": "ml.m5d.2xlarge",
    "vcpuNum": 8
   },
   {
    "_defaultOrder": 15,
    "_isFastLaunch": false,
    "category": "General purpose",
    "gpuNum": 0,
    "hideHardwareSpecs": false,
    "memoryGiB": 64,
    "name": "ml.m5d.4xlarge",
    "vcpuNum": 16
   },
   {
    "_defaultOrder": 16,
    "_isFastLaunch": false,
    "category": "General purpose",
    "gpuNum": 0,
    "hideHardwareSpecs": false,
    "memoryGiB": 128,
    "name": "ml.m5d.8xlarge",
    "vcpuNum": 32
   },
   {
    "_defaultOrder": 17,
    "_isFastLaunch": false,
    "category": "General purpose",
    "gpuNum": 0,
    "hideHardwareSpecs": false,
    "memoryGiB": 192,
    "name": "ml.m5d.12xlarge",
    "vcpuNum": 48
   },
   {
    "_defaultOrder": 18,
    "_isFastLaunch": false,
    "category": "General purpose",
    "gpuNum": 0,
    "hideHardwareSpecs": false,
    "memoryGiB": 256,
    "name": "ml.m5d.16xlarge",
    "vcpuNum": 64
   },
   {
    "_defaultOrder": 19,
    "_isFastLaunch": false,
    "category": "General purpose",
    "gpuNum": 0,
    "hideHardwareSpecs": false,
    "memoryGiB": 384,
    "name": "ml.m5d.24xlarge",
    "vcpuNum": 96
   },
   {
    "_defaultOrder": 20,
    "_isFastLaunch": false,
    "category": "General purpose",
    "gpuNum": 0,
    "hideHardwareSpecs": true,
    "memoryGiB": 0,
    "name": "ml.geospatial.interactive",
    "supportedImageNames": [
     "sagemaker-geospatial-v1-0"
    ],
    "vcpuNum": 0
   },
   {
    "_defaultOrder": 21,
    "_isFastLaunch": true,
    "category": "Compute optimized",
    "gpuNum": 0,
    "hideHardwareSpecs": false,
    "memoryGiB": 4,
    "name": "ml.c5.large",
    "vcpuNum": 2
   },
   {
    "_defaultOrder": 22,
    "_isFastLaunch": false,
    "category": "Compute optimized",
    "gpuNum": 0,
    "hideHardwareSpecs": false,
    "memoryGiB": 8,
    "name": "ml.c5.xlarge",
    "vcpuNum": 4
   },
   {
    "_defaultOrder": 23,
    "_isFastLaunch": false,
    "category": "Compute optimized",
    "gpuNum": 0,
    "hideHardwareSpecs": false,
    "memoryGiB": 16,
    "name": "ml.c5.2xlarge",
    "vcpuNum": 8
   },
   {
    "_defaultOrder": 24,
    "_isFastLaunch": false,
    "category": "Compute optimized",
    "gpuNum": 0,
    "hideHardwareSpecs": false,
    "memoryGiB": 32,
    "name": "ml.c5.4xlarge",
    "vcpuNum": 16
   },
   {
    "_defaultOrder": 25,
    "_isFastLaunch": false,
    "category": "Compute optimized",
    "gpuNum": 0,
    "hideHardwareSpecs": false,
    "memoryGiB": 72,
    "name": "ml.c5.9xlarge",
    "vcpuNum": 36
   },
   {
    "_defaultOrder": 26,
    "_isFastLaunch": false,
    "category": "Compute optimized",
    "gpuNum": 0,
    "hideHardwareSpecs": false,
    "memoryGiB": 96,
    "name": "ml.c5.12xlarge",
    "vcpuNum": 48
   },
   {
    "_defaultOrder": 27,
    "_isFastLaunch": false,
    "category": "Compute optimized",
    "gpuNum": 0,
    "hideHardwareSpecs": false,
    "memoryGiB": 144,
    "name": "ml.c5.18xlarge",
    "vcpuNum": 72
   },
   {
    "_defaultOrder": 28,
    "_isFastLaunch": false,
    "category": "Compute optimized",
    "gpuNum": 0,
    "hideHardwareSpecs": false,
    "memoryGiB": 192,
    "name": "ml.c5.24xlarge",
    "vcpuNum": 96
   },
   {
    "_defaultOrder": 29,
    "_isFastLaunch": true,
    "category": "Accelerated computing",
    "gpuNum": 1,
    "hideHardwareSpecs": false,
    "memoryGiB": 16,
    "name": "ml.g4dn.xlarge",
    "vcpuNum": 4
   },
   {
    "_defaultOrder": 30,
    "_isFastLaunch": false,
    "category": "Accelerated computing",
    "gpuNum": 1,
    "hideHardwareSpecs": false,
    "memoryGiB": 32,
    "name": "ml.g4dn.2xlarge",
    "vcpuNum": 8
   },
   {
    "_defaultOrder": 31,
    "_isFastLaunch": false,
    "category": "Accelerated computing",
    "gpuNum": 1,
    "hideHardwareSpecs": false,
    "memoryGiB": 64,
    "name": "ml.g4dn.4xlarge",
    "vcpuNum": 16
   },
   {
    "_defaultOrder": 32,
    "_isFastLaunch": false,
    "category": "Accelerated computing",
    "gpuNum": 1,
    "hideHardwareSpecs": false,
    "memoryGiB": 128,
    "name": "ml.g4dn.8xlarge",
    "vcpuNum": 32
   },
   {
    "_defaultOrder": 33,
    "_isFastLaunch": false,
    "category": "Accelerated computing",
    "gpuNum": 4,
    "hideHardwareSpecs": false,
    "memoryGiB": 192,
    "name": "ml.g4dn.12xlarge",
    "vcpuNum": 48
   },
   {
    "_defaultOrder": 34,
    "_isFastLaunch": false,
    "category": "Accelerated computing",
    "gpuNum": 1,
    "hideHardwareSpecs": false,
    "memoryGiB": 256,
    "name": "ml.g4dn.16xlarge",
    "vcpuNum": 64
   },
   {
    "_defaultOrder": 35,
    "_isFastLaunch": false,
    "category": "Accelerated computing",
    "gpuNum": 1,
    "hideHardwareSpecs": false,
    "memoryGiB": 61,
    "name": "ml.p3.2xlarge",
    "vcpuNum": 8
   },
   {
    "_defaultOrder": 36,
    "_isFastLaunch": false,
    "category": "Accelerated computing",
    "gpuNum": 4,
    "hideHardwareSpecs": false,
    "memoryGiB": 244,
    "name": "ml.p3.8xlarge",
    "vcpuNum": 32
   },
   {
    "_defaultOrder": 37,
    "_isFastLaunch": false,
    "category": "Accelerated computing",
    "gpuNum": 8,
    "hideHardwareSpecs": false,
    "memoryGiB": 488,
    "name": "ml.p3.16xlarge",
    "vcpuNum": 64
   },
   {
    "_defaultOrder": 38,
    "_isFastLaunch": false,
    "category": "Accelerated computing",
    "gpuNum": 8,
    "hideHardwareSpecs": false,
    "memoryGiB": 768,
    "name": "ml.p3dn.24xlarge",
    "vcpuNum": 96
   },
   {
    "_defaultOrder": 39,
    "_isFastLaunch": false,
    "category": "Memory Optimized",
    "gpuNum": 0,
    "hideHardwareSpecs": false,
    "memoryGiB": 16,
    "name": "ml.r5.large",
    "vcpuNum": 2
   },
   {
    "_defaultOrder": 40,
    "_isFastLaunch": false,
    "category": "Memory Optimized",
    "gpuNum": 0,
    "hideHardwareSpecs": false,
    "memoryGiB": 32,
    "name": "ml.r5.xlarge",
    "vcpuNum": 4
   },
   {
    "_defaultOrder": 41,
    "_isFastLaunch": false,
    "category": "Memory Optimized",
    "gpuNum": 0,
    "hideHardwareSpecs": false,
    "memoryGiB": 64,
    "name": "ml.r5.2xlarge",
    "vcpuNum": 8
   },
   {
    "_defaultOrder": 42,
    "_isFastLaunch": false,
    "category": "Memory Optimized",
    "gpuNum": 0,
    "hideHardwareSpecs": false,
    "memoryGiB": 128,
    "name": "ml.r5.4xlarge",
    "vcpuNum": 16
   },
   {
    "_defaultOrder": 43,
    "_isFastLaunch": false,
    "category": "Memory Optimized",
    "gpuNum": 0,
    "hideHardwareSpecs": false,
    "memoryGiB": 256,
    "name": "ml.r5.8xlarge",
    "vcpuNum": 32
   },
   {
    "_defaultOrder": 44,
    "_isFastLaunch": false,
    "category": "Memory Optimized",
    "gpuNum": 0,
    "hideHardwareSpecs": false,
    "memoryGiB": 384,
    "name": "ml.r5.12xlarge",
    "vcpuNum": 48
   },
   {
    "_defaultOrder": 45,
    "_isFastLaunch": false,
    "category": "Memory Optimized",
    "gpuNum": 0,
    "hideHardwareSpecs": false,
    "memoryGiB": 512,
    "name": "ml.r5.16xlarge",
    "vcpuNum": 64
   },
   {
    "_defaultOrder": 46,
    "_isFastLaunch": false,
    "category": "Memory Optimized",
    "gpuNum": 0,
    "hideHardwareSpecs": false,
    "memoryGiB": 768,
    "name": "ml.r5.24xlarge",
    "vcpuNum": 96
   },
   {
    "_defaultOrder": 47,
    "_isFastLaunch": false,
    "category": "Accelerated computing",
    "gpuNum": 1,
    "hideHardwareSpecs": false,
    "memoryGiB": 16,
    "name": "ml.g5.xlarge",
    "vcpuNum": 4
   },
   {
    "_defaultOrder": 48,
    "_isFastLaunch": false,
    "category": "Accelerated computing",
    "gpuNum": 1,
    "hideHardwareSpecs": false,
    "memoryGiB": 32,
    "name": "ml.g5.2xlarge",
    "vcpuNum": 8
   },
   {
    "_defaultOrder": 49,
    "_isFastLaunch": false,
    "category": "Accelerated computing",
    "gpuNum": 1,
    "hideHardwareSpecs": false,
    "memoryGiB": 64,
    "name": "ml.g5.4xlarge",
    "vcpuNum": 16
   },
   {
    "_defaultOrder": 50,
    "_isFastLaunch": false,
    "category": "Accelerated computing",
    "gpuNum": 1,
    "hideHardwareSpecs": false,
    "memoryGiB": 128,
    "name": "ml.g5.8xlarge",
    "vcpuNum": 32
   },
   {
    "_defaultOrder": 51,
    "_isFastLaunch": false,
    "category": "Accelerated computing",
    "gpuNum": 1,
    "hideHardwareSpecs": false,
    "memoryGiB": 256,
    "name": "ml.g5.16xlarge",
    "vcpuNum": 64
   },
   {
    "_defaultOrder": 52,
    "_isFastLaunch": false,
    "category": "Accelerated computing",
    "gpuNum": 4,
    "hideHardwareSpecs": false,
    "memoryGiB": 192,
    "name": "ml.g5.12xlarge",
    "vcpuNum": 48
   },
   {
    "_defaultOrder": 53,
    "_isFastLaunch": false,
    "category": "Accelerated computing",
    "gpuNum": 4,
    "hideHardwareSpecs": false,
    "memoryGiB": 384,
    "name": "ml.g5.24xlarge",
    "vcpuNum": 96
   },
   {
    "_defaultOrder": 54,
    "_isFastLaunch": false,
    "category": "Accelerated computing",
    "gpuNum": 8,
    "hideHardwareSpecs": false,
    "memoryGiB": 768,
    "name": "ml.g5.48xlarge",
    "vcpuNum": 192
   },
   {
    "_defaultOrder": 55,
    "_isFastLaunch": false,
    "category": "Accelerated computing",
    "gpuNum": 8,
    "hideHardwareSpecs": false,
    "memoryGiB": 1152,
    "name": "ml.p4d.24xlarge",
    "vcpuNum": 96
   },
   {
    "_defaultOrder": 56,
    "_isFastLaunch": false,
    "category": "Accelerated computing",
    "gpuNum": 8,
    "hideHardwareSpecs": false,
    "memoryGiB": 1152,
    "name": "ml.p4de.24xlarge",
    "vcpuNum": 96
   },
   {
    "_defaultOrder": 57,
    "_isFastLaunch": false,
    "category": "Accelerated computing",
    "gpuNum": 0,
    "hideHardwareSpecs": false,
    "memoryGiB": 32,
    "name": "ml.trn1.2xlarge",
    "vcpuNum": 8
   },
   {
    "_defaultOrder": 58,
    "_isFastLaunch": false,
    "category": "Accelerated computing",
    "gpuNum": 0,
    "hideHardwareSpecs": false,
    "memoryGiB": 512,
    "name": "ml.trn1.32xlarge",
    "vcpuNum": 128
   },
   {
    "_defaultOrder": 59,
    "_isFastLaunch": false,
    "category": "Accelerated computing",
    "gpuNum": 0,
    "hideHardwareSpecs": false,
    "memoryGiB": 512,
    "name": "ml.trn1n.32xlarge",
    "vcpuNum": 128
   }
  ],
  "instance_type": "ml.t3.medium",
  "kernelspec": {
   "display_name": "conda_bhenv",
   "language": "python",
   "name": "conda_bhenv"
  },
  "language_info": {
   "codemirror_mode": {
    "name": "ipython",
    "version": 3
   },
   "file_extension": ".py",
   "mimetype": "text/x-python",
   "name": "python",
   "nbconvert_exporter": "python",
   "pygments_lexer": "ipython3",
   "version": "3.10.12"
  }
 },
 "nbformat": 4,
 "nbformat_minor": 5
}
