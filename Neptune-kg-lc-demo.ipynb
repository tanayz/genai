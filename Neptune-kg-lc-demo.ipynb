{
 "cells": [
  {
   "cell_type": "code",
   "execution_count": 26,
   "id": "e9cc456d-d846-4737-8692-de5863243262",
   "metadata": {
    "tags": []
   },
   "outputs": [],
   "source": [
    "#%pip install langchain_aws langchain langchain-community gremlin-python"
   ]
  },
  {
   "cell_type": "code",
   "execution_count": 43,
   "id": "517d9ada-b0e2-480c-9b9a-f988f4c20589",
   "metadata": {
    "tags": []
   },
   "outputs": [
    {
     "data": {
      "application/vnd.jupyter.widget-view+json": {
       "model_id": "f0182fe89ab343209c3c66f4699b15a6",
       "version_major": 2,
       "version_minor": 0
      },
      "text/plain": [
       "Dropdown(description='Source type:', options=('', 'samples', 'custom'), style=DescriptionStyle(description_wid…"
      ]
     },
     "metadata": {},
     "output_type": "display_data"
    },
    {
     "data": {
      "application/vnd.jupyter.widget-view+json": {
       "model_id": "9f4018b36e9140b9873d706dfc91477a",
       "version_major": 2,
       "version_minor": 0
      },
      "text/plain": [
       "Dropdown(description='Data model:', layout=Layout(display='none', visibility='hidden'), options=('', 'property…"
      ]
     },
     "metadata": {},
     "output_type": "display_data"
    },
    {
     "data": {
      "application/vnd.jupyter.widget-view+json": {
       "model_id": "70efe5a729e5475682f84b712a762377",
       "version_major": 2,
       "version_minor": 0
      },
      "text/plain": [
       "Dropdown(description='Language:', layout=Layout(display='none', visibility='hidden'), options=('', 'opencypher…"
      ]
     },
     "metadata": {},
     "output_type": "display_data"
    },
    {
     "data": {
      "application/vnd.jupyter.widget-view+json": {
       "model_id": "84ca980748b54144a7d82894712186dc",
       "version_major": 2,
       "version_minor": 0
      },
      "text/plain": [
       "Dropdown(description='Language:', layout=Layout(display='none', visibility='hidden'), options=('', 'opencypher…"
      ]
     },
     "metadata": {},
     "output_type": "display_data"
    },
    {
     "data": {
      "application/vnd.jupyter.widget-view+json": {
       "model_id": "2e49616f38ec42e0bbb24d15b813867a",
       "version_major": 2,
       "version_minor": 0
      },
      "text/plain": [
       "Dropdown(description='Data set:', layout=Layout(display='none', visibility='hidden'), options=(), style=Descri…"
      ]
     },
     "metadata": {},
     "output_type": "display_data"
    },
    {
     "data": {
      "application/vnd.jupyter.widget-view+json": {
       "model_id": "7ec058d0e3974f80b6c99989f8e83aac",
       "version_major": 2,
       "version_minor": 0
      },
      "text/plain": [
       "Dropdown(description='Full File Query:', index=1, layout=Layout(display='none', visibility='hidden'), options=…"
      ]
     },
     "metadata": {},
     "output_type": "display_data"
    },
    {
     "data": {
      "application/vnd.jupyter.widget-view+json": {
       "model_id": "fe61b53578cc4f73b04bd4e891d91e14",
       "version_major": 2,
       "version_minor": 0
      },
      "text/plain": [
       "Dropdown(description='Location:', layout=Layout(display='none', visibility='hidden'), options=('Local', 'S3'),…"
      ]
     },
     "metadata": {},
     "output_type": "display_data"
    },
    {
     "data": {
      "application/vnd.jupyter.widget-view+json": {
       "model_id": "7b9da9e49cbf4b97aa79ac47e1e2cad9",
       "version_major": 2,
       "version_minor": 0
      },
      "text/plain": [
       "FileChooser(path='/home/ec2-user/SageMaker', filename='', title='', show_hidden=False, select_desc='Select', c…"
      ]
     },
     "metadata": {},
     "output_type": "display_data"
    },
    {
     "data": {
      "application/vnd.jupyter.widget-view+json": {
       "model_id": "527f481427c0482892b98eb9b03a5c9c",
       "version_major": 2,
       "version_minor": 0
      },
      "text/plain": [
       "HBox(children=(Text(value='', description='Source:', placeholder='path/to/seedfiles/directory', style=Descript…"
      ]
     },
     "metadata": {},
     "output_type": "display_data"
    },
    {
     "data": {
      "application/vnd.jupyter.widget-view+json": {
       "model_id": "",
       "version_major": 2,
       "version_minor": 0
      },
      "text/plain": [
       "Button(description='Submit', layout=Layout(visibility='hidden'), style=ButtonStyle())"
      ]
     },
     "metadata": {},
     "output_type": "display_data"
    },
    {
     "data": {
      "application/vnd.jupyter.widget-view+json": {
       "model_id": "2f1631d2cb454060b4a65704150216d2",
       "version_major": 2,
       "version_minor": 0
      },
      "text/plain": [
       "Output()"
      ]
     },
     "metadata": {},
     "output_type": "display_data"
    },
    {
     "data": {
      "application/vnd.jupyter.widget-view+json": {
       "model_id": "da2341249c7845a984ef642c6de60398",
       "version_major": 2,
       "version_minor": 0
      },
      "text/plain": [
       "Output()"
      ]
     },
     "metadata": {},
     "output_type": "display_data"
    }
   ],
   "source": [
    "%seed --model Property_Graph --dataset airport --run"
   ]
  },
  {
   "cell_type": "code",
   "execution_count": 50,
   "id": "1569eaa5-ee86-49f9-a0cf-0c4f08c97ccf",
   "metadata": {
    "tags": []
   },
   "outputs": [
    {
     "data": {
      "application/vnd.jupyter.widget-view+json": {
       "model_id": "3db40104759a4790b691b7abe839821d",
       "version_major": 2,
       "version_minor": 0
      },
      "text/plain": [
       "Tab(children=(Output(layout=Layout(max_height='600px', max_width='940px', overflow='scroll')), Force(network=<…"
      ]
     },
     "metadata": {},
     "output_type": "display_data"
    }
   ],
   "source": [
    "%%gremlin\n",
    "g.V().hasLabel('airport').limit(10).valueMap(true)"
   ]
  },
  {
   "cell_type": "code",
   "execution_count": 51,
   "id": "fea570d9-7ff3-48b9-9fa1-9d5e5d9f8b1c",
   "metadata": {
    "tags": []
   },
   "outputs": [
    {
     "data": {
      "application/vnd.jupyter.widget-view+json": {
       "model_id": "ed70750fa55c4e388f9a674cd9b2c5f6",
       "version_major": 2,
       "version_minor": 0
      },
      "text/plain": [
       "Tab(children=(Output(layout=Layout(max_height='600px', max_width='940px', overflow='scroll')), Force(network=<…"
      ]
     },
     "metadata": {},
     "output_type": "display_data"
    }
   ],
   "source": [
    "%%gremlin\n",
    "g.E().hasLabel('route').limit(10).valueMap(true)"
   ]
  },
  {
   "cell_type": "code",
   "execution_count": 66,
   "id": "5d9d3ddc-2a95-456a-9058-e51e3c1e11d9",
   "metadata": {
    "tags": []
   },
   "outputs": [],
   "source": [
    "from gremlin_python.driver import client\n",
    "from gremlin_python.driver.protocol import GremlinServerError\n",
    "\n",
    "neptune_endpoint = \"db-neptune-1.cluster-ro-choicos2alvz.us-east-1.neptune.amazonaws.com\"\n",
    "neptune_port = 8182\n",
    "\n",
    "# Replace NeptuneGraph with a custom class\n",
    "class CustomNeptuneGraph:\n",
    "    def __init__(self, host, port, use_https=True):\n",
    "        protocol = 'wss' if use_https else 'ws'\n",
    "        self.endpoint = f\"{protocol}://{host}:{port}/gremlin\"\n",
    "        self.client = client.Client(self.endpoint, 'g')\n",
    "\n",
    "    def query(self, query_string):\n",
    "        try:\n",
    "            result = self.client.submit(query_string).all().result()\n",
    "            return result\n",
    "        except GremlinServerError as e:\n",
    "            print(f\"Error executing query: {e}\")\n",
    "            return None\n",
    "\n",
    "# Set up the custom Neptune graph connection\n",
    "graph = CustomNeptuneGraph(\n",
    "    host=neptune_endpoint,\n",
    "    port=neptune_port,\n",
    "    use_https=True\n",
    ")\n",
    "\n",
    "# The rest of your code remains the same\n",
    "prompt_template = \"\"\"\n",
    "Given the following question about an airport database:\n",
    "{question}\n",
    "\n",
    "Generate ONLY the Gremlin query to answer this question. The database has vertices labeled as 'airport' \n",
    "and edges labeled as 'route'. Do not include any explanations or comments, just the raw Gremlin query.\n",
    "\n",
    "Gremlin Query:\n",
    "\"\"\"\n",
    "\n",
    "prompt = PromptTemplate(template=prompt_template, input_variables=[\"question\"])\n",
    "\n",
    "# Create an LLMChain\n",
    "chain = LLMChain(llm=llm, prompt=prompt)\n",
    "\n",
    "# Function to ask questions using the chain and execute the query\n",
    "def ask_question(question):\n",
    "    # Generate the Gremlin query\n",
    "    response = chain.run(question)\n",
    "    \n",
    "    # Extract only the Gremlin query (remove any explanations or comments)\n",
    "    query = response.strip().split('\\n')[-1]  # Get the last line of the response\n",
    "    print(f\"Generated Query: {query}\")\n",
    "    \n",
    "    # Execute the query on the Neptune database\n",
    "    result = graph.query(query)\n",
    "    return result\n"
   ]
  },
  {
   "cell_type": "code",
   "execution_count": 67,
   "id": "da551bab-4902-41e3-be77-955a1827e84e",
   "metadata": {
    "tags": []
   },
   "outputs": [
    {
     "name": "stdout",
     "output_type": "stream",
     "text": [
      "Generated Query: g.V().has('airport', 'city', 'Atlanta').outE('route').count()\n",
      "Query Result: [242]\n"
     ]
    }
   ],
   "source": [
    "# Example question\n",
    "question = \"How many outgoing routes does the Atlanta city have?\"\n",
    "response = ask_question(question)\n",
    "print(f\"Query Result: {response}\")"
   ]
  },
  {
   "cell_type": "code",
   "execution_count": 60,
   "id": "0d06ede0-a434-4fed-93c3-4d95cc4f040b",
   "metadata": {
    "tags": []
   },
   "outputs": [
    {
     "name": "stdout",
     "output_type": "stream",
     "text": [
      "Generated Query: g.V().hasLabel('airport').out('route').values('country').dedup()\n",
      "Query Result: ['US', 'TR', 'DE', 'MX', 'PR', 'CA', 'UK', 'FR', 'JP', 'AE', 'IE', 'CN', 'IT', 'NL', 'ES', 'CH', 'BE', 'PT', 'BS', 'BB', 'VI', 'BM', 'NG', 'JM', 'BQ', 'AW', 'CO', 'BZ', 'QA', 'DO', 'CR', 'HN', 'TC', 'PA', 'SV', 'LC', 'EC', 'NI', 'HT', 'KY', 'BR', 'KR', 'ZA', 'AR', 'PE', 'CL', 'SX', 'VE', 'GT', 'CU', 'GP', 'IS', 'RU', 'DK', 'HK', 'CV', 'NO', 'MQ', 'IL', 'AU', 'KN', 'TT', 'SE', 'GH', 'MA', 'IN', 'AT', 'SA', 'SN', 'ET', 'KW', 'TG', 'NZ', 'TW', 'AZ', 'UA', 'FI', 'AG', 'CW', 'VC', 'PH', 'HU', 'LV', 'GY', 'KE', 'PL', 'RS', 'EG', 'JO', 'GD', 'GU', 'SG', 'CK', 'FJ', 'PF', 'SR', 'PY', 'BO', 'UY', 'GR', 'CI', 'CZ', 'WS', 'AS', 'MH', 'KI', 'MY', 'PG', 'BH', 'VN', 'LU', 'KZ', 'UG', 'RO', 'LB', 'SL', 'LY', 'BD', 'UZ', 'IR', 'MU', 'SC', 'AL', 'LT', 'MD', 'ME', 'TJ', 'ZM', 'DJ', 'SD', 'TZ', 'MK', 'AF', 'CM', 'DZ', 'BF', 'NE', 'CY', 'TN', 'NP', 'OM', 'ID', 'BY', 'MV', 'RW', 'SI', 'GA', 'TD', 'CD', 'ML', 'MR', 'GN', 'AM', 'IQ', 'KG', 'KM', 'TH', 'HR', 'PK', 'GE', 'BG', 'BA', 'SK', 'GM', 'MT', 'EE', 'TM', 'KS', 'ER', 'LK', 'SY', 'YE', 'PM', 'MM', 'KH', 'LA', 'JE', 'FO', 'GL', 'GG', 'MP', 'PW', 'FM', 'NA', 'BJ', 'LR', 'IM', 'SS', 'BI', 'SO', 'RE', 'MG', 'AO', 'CG', 'CF', 'GQ', 'GW', 'EH', 'MO', 'ZW', 'MZ', 'ST', 'BT', 'TO', 'NR', 'SB', 'TV', 'KP', 'MN', 'BN', 'BW', 'MW', 'YT', 'VU', 'NC', 'VG', 'MF', 'DM', 'FK', 'BL', 'AI', 'GI', 'NF', 'TL', 'CX', 'MS', 'CC', 'WF', 'GF', 'SZ', 'LS', 'SH']\n"
     ]
    }
   ],
   "source": [
    "# Example question\n",
    "question = \"Get a list of all countries with airports\"\n",
    "response = ask_question(question)\n",
    "print(f\"Query Result: {response}\")"
   ]
  },
  {
   "cell_type": "code",
   "execution_count": 62,
   "id": "cb7f86f7-04f2-4b0b-b3ce-16778ec732ec",
   "metadata": {
    "tags": []
   },
   "outputs": [
    {
     "name": "stdout",
     "output_type": "stream",
     "text": [
      "Generated Query: g.V().hasLabel('airport').groupCount().by('country')\n",
      "Query Result: [{'PR': 7, 'PT': 19, 'PW': 1, 'PY': 2, 'QA': 1, 'AE': 10, 'AF': 5, 'AG': 1, 'AI': 1, 'AL': 1, 'AM': 2, 'AO': 14, 'AR': 38, 'AS': 1, 'AT': 6, 'RE': 2, 'AU': 131, 'AW': 1, 'AZ': 5, 'RO': 14, 'BA': 4, 'BB': 1, 'RS': 3, 'BD': 7, 'RU': 129, 'BE': 5, 'BF': 2, 'BG': 4, 'RW': 2, 'BH': 1, 'BI': 1, 'BJ': 1, 'BL': 1, 'BM': 1, 'BN': 1, 'BO': 15, 'SA': 26, 'SB': 17, 'BQ': 3, 'SC': 2, 'BR': 117, 'SD': 5, 'BS': 18, 'SE': 39, 'BT': 1, 'SG': 2, 'BW': 4, 'SH': 2, 'SI': 2, 'BY': 3, 'SK': 2, 'BZ': 13, 'SL': 1, 'SN': 4, 'SO': 6, 'CA': 205, 'SR': 1, 'SS': 1, 'CC': 1, 'CD': 11, 'ST': 1, 'CF': 1, 'SV': 1, 'CG': 3, 'CH': 6, 'SX': 1, 'CI': 2, 'SY': 2, 'SZ': 1, 'CK': 6, 'CL': 17, 'CM': 5, 'CN': 217, 'CO': 51, 'CR': 13, 'TC': 4, 'TD': 5, 'CU': 12, 'CV': 7, 'TG': 1, 'TH': 33, 'CW': 1, 'CX': 1, 'CY': 3, 'TJ': 4, 'CZ': 5, 'TL': 1, 'TM': 1, 'TN': 8, 'TO': 5, 'TR': 52, 'TT': 2, 'DE': 34, 'TV': 1, 'TW': 9, 'DJ': 1, 'TZ': 11, 'DK': 8, 'DM': 1, 'DO': 7, 'UA': 15, 'UG': 4, 'UK': 58, 'DZ': 30, 'US': 586, 'EC': 15, 'EE': 3, 'EG': 11, 'EH': 2, 'UY': 2, 'UZ': 11, 'VC': 1, 'ER': 1, 'ES': 43, 'VE': 27, 'ET': 16, 'VG': 2, 'VI': 2, 'VN': 22, 'VU': 26, 'FI': 20, 'FJ': 10, 'FK': 2, 'FM': 4, 'FO': 1, 'FR': 59, 'WF': 2, 'GA': 2, 'WS': 1, 'GD': 1, 'GE': 3, 'GF': 1, 'GG': 2, 'GH': 6, 'GI': 1, 'GL': 14, 'GM': 1, 'GN': 1, 'GP': 1, 'GQ': 2, 'GR': 39, 'GT': 2, 'GU': 1, 'GW': 1, 'GY': 2, 'HK': 1, 'HN': 6, 'HR': 8, 'YE': 9, 'HT': 2, 'HU': 2, 'ID': 70, 'YT': 1, 'IE': 7, 'IL': 6, 'IM': 1, 'IN': 77, 'ZA': 20, 'IQ': 6, 'IR': 45, 'IS': 7, 'IT': 38, 'ZM': 9, 'JE': 1, 'ZW': 3, 'JM': 2, 'JO': 2, 'JP': 65, 'KE': 14, 'KG': 2, 'KH': 3, 'KI': 2, 'KM': 1, 'KN': 2, 'KP': 1, 'KR': 15, 'KS': 1, 'KW': 1, 'KY': 3, 'KZ': 21, 'LA': 8, 'LB': 1, 'LC': 2, 'LK': 6, 'LR': 2, 'LS': 1, 'LT': 3, 'LU': 1, 'LV': 1, 'LY': 11, 'MA': 16, 'MD': 1, 'ME': 2, 'MF': 1, 'MG': 13, 'MH': 2, 'MK': 2, 'ML': 1, 'MM': 17, 'MN': 10, 'MO': 1, 'MP': 2, 'MQ': 1, 'MR': 3, 'MS': 1, 'MT': 1, 'MU': 2, 'MV': 8, 'MW': 7, 'MX': 60, 'MY': 35, 'MZ': 11, 'NA': 5, 'NC': 1, 'NE': 1, 'NF': 1, 'NG': 19, 'NI': 1, 'NL': 5, 'NO': 49, 'NP': 11, 'NR': 1, 'NZ': 25, 'OM': 4, 'PA': 5, 'PE': 22, 'PF': 39, 'PG': 26, 'PH': 40, 'PK': 21, 'PL': 13, 'PM': 1}]\n"
     ]
    }
   ],
   "source": [
    "# Example question\n",
    "question = \"Count airports by country\"\n",
    "response = ask_question(question)\n",
    "print(f\"Query Result: {response}\")"
   ]
  },
  {
   "cell_type": "code",
   "execution_count": null,
   "id": "bdf8eae1-d4a1-41d1-9157-f270f9566ebd",
   "metadata": {},
   "outputs": [],
   "source": []
  }
 ],
 "metadata": {
  "kernelspec": {
   "display_name": "Python 3",
   "language": "python",
   "name": "python3"
  },
  "language_info": {
   "codemirror_mode": {
    "name": "ipython",
    "version": 3
   },
   "file_extension": ".py",
   "mimetype": "text/x-python",
   "name": "python",
   "nbconvert_exporter": "python",
   "pygments_lexer": "ipython3",
   "version": "3.10.8"
  }
 },
 "nbformat": 4,
 "nbformat_minor": 5
}
