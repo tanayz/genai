{
 "cells": [
  {
   "cell_type": "code",
   "execution_count": 1,
   "id": "ad20a1af-5fbe-402d-973f-72e58985afa0",
   "metadata": {
    "tags": []
   },
   "outputs": [
    {
     "name": "stderr",
     "output_type": "stream",
     "text": [
      "/home/ec2-user/anaconda3/envs/bhenv/lib/python3.10/site-packages/langchain_community/llms/__init__.py:173: LangChainDeprecationWarning: `` was deprecated in LangChain 0.0.22 and will be removed in 0.2. An updated version of the  exists in the langchain-community package and should be used instead. To use it run `pip install -U langchain-community` and import as `from langchain_community.chat_models import ChatDatabricks`.\n",
      "  warn_deprecated(\n",
      "/home/ec2-user/anaconda3/envs/bhenv/lib/python3.10/site-packages/langchain_community/llms/__init__.py:343: LangChainDeprecationWarning: `` was deprecated in LangChain 0.0.22 and will be removed in 0.2. An updated version of the  exists in the langchain-community package and should be used instead. To use it run `pip install -U langchain-community` and import as `from langchain_community.chat_models import ChatMlflow`.\n",
      "  warn_deprecated(\n",
      "/home/ec2-user/anaconda3/envs/bhenv/lib/python3.10/site-packages/fsspec/registry.py:273: UserWarning: Your installed version of s3fs is very old and known to cause\n",
      "severe performance issues, see also https://github.com/dask/dask/issues/10276\n",
      "\n",
      "To fix, you should specify a lower version bound on s3fs, or\n",
      "update the current installation.\n",
      "\n",
      "  warnings.warn(s3_msg)\n"
     ]
    }
   ],
   "source": [
    "from utilities import checkPII, translate, detect_language, retrieveFromKB, check_permission\n",
    "import pprint, time\n",
    "pp = pprint.PrettyPrinter(indent=2)"
   ]
  },
  {
   "cell_type": "code",
   "execution_count": 2,
   "id": "d8cf009f-f525-4684-9e41-76d2f5fc1a5d",
   "metadata": {
    "tags": []
   },
   "outputs": [],
   "source": [
    "queries = [\\\n",
    "              \"My age is 61, what is the retirement age in India?\",\\\n",
    "              \"I did not receive login details for my new hire. what do i do?\",\\\n",
    "             \"Mi dirección es 1234 Richard Ln SE, MN 56789. ¿Cuándo recibiré mi recibo de sueldo?\",\\\n",
    "            ]"
   ]
  },
  {
   "cell_type": "code",
   "execution_count": 3,
   "id": "bc67e2f6-af41-44e4-a711-56d107934705",
   "metadata": {
    "tags": []
   },
   "outputs": [
    {
     "data": {
      "text/plain": [
       "1713390999.4676273"
      ]
     },
     "execution_count": 3,
     "metadata": {},
     "output_type": "execute_result"
    }
   ],
   "source": [
    "time.time()"
   ]
  },
  {
   "cell_type": "code",
   "execution_count": 10,
   "id": "86a31f1e-5678-40ce-b0b4-b21f0c62ddad",
   "metadata": {
    "tags": []
   },
   "outputs": [
    {
     "name": "stderr",
     "output_type": "stream",
     "text": [
      "Parameter temperature does not exist for BedrockChat\n"
     ]
    },
    {
     "name": "stdout",
     "output_type": "stream",
     "text": [
      "Time taken for language detection: 0.3664720058441162 seconds\n",
      "Time taken for language translation: 0.00023412704467773438 seconds\n"
     ]
    },
    {
     "name": "stderr",
     "output_type": "stream",
     "text": [
      "Parameter temperature does not exist for BedrockChat\n"
     ]
    },
    {
     "name": "stdout",
     "output_type": "stream",
     "text": [
      "Time taken for PII check: 3.210392951965332 seconds\n",
      "My age is 61, what is the retirement age in India? English False\n",
      "['Benefits at Glance_Ireland', 'Benefits at Glance_KR', 'Benefits at Glance_MY', 'Benefits at Glance - Egypt', 'Benefits at Glance_India']\n",
      "Time taken for retrieval: 0.6450903415679932 seconds\n",
      "['no', 'no', 'no', 'no', 'yes']\n"
     ]
    },
    {
     "name": "stderr",
     "output_type": "stream",
     "text": [
      "Parameter temperature does not exist for BedrockChat\n"
     ]
    },
    {
     "name": "stdout",
     "output_type": "stream",
     "text": [
      "Time taken for language detection: 0.35312533378601074 seconds\n",
      "Time taken for language translation: 1.6689300537109375e-06 seconds\n"
     ]
    },
    {
     "name": "stderr",
     "output_type": "stream",
     "text": [
      "Parameter temperature does not exist for BedrockChat\n"
     ]
    },
    {
     "name": "stdout",
     "output_type": "stream",
     "text": [
      "Time taken for PII check: 3.661233425140381 seconds\n",
      "I did not receive login details for my new hire. what do i do? English False\n",
      "['How People Leaders Can Prepare for Their New Hires - Germany', 'Day 1 Logistics for Managers - Kuwait', 'Day 1 Logistics for Managers- UAE', 'Day 1 Logistics for Managers- Ireland', 'How People Leaders Can Prepare for Their New Hires - UAE']\n",
      "Time taken for retrieval: 0.39232969284057617 seconds\n",
      "['no', 'no', 'no', 'no', 'no']\n",
      "Time taken for language detection: 0.24105072021484375 seconds\n"
     ]
    },
    {
     "name": "stderr",
     "output_type": "stream",
     "text": [
      "Parameter temperature does not exist for BedrockChat\n"
     ]
    },
    {
     "name": "stdout",
     "output_type": "stream",
     "text": [
      "Time taken for language translation: 0.6649444103240967 seconds\n"
     ]
    },
    {
     "name": "stderr",
     "output_type": "stream",
     "text": [
      "Parameter temperature does not exist for BedrockChat\n"
     ]
    },
    {
     "name": "stdout",
     "output_type": "stream",
     "text": [
      "Time taken for PII check: 3.887368679046631 seconds\n",
      "My address is 1234 Richard Ln SE, MN 56789. When will I receive my paycheck? Spanish True\n",
      "['Day 1 Other Info - Mexico (LE 0330, 0341, 0356, 0357, 0395)', 'Day 1 Other Info - Nigeria', 'Day 1 Other Info - Angola', 'Day 1 Other Info - Netherlands', 'Useful information for your first few days at Baker Hughes']\n",
      "Time taken for retrieval: 0.5475080013275146 seconds\n",
      "['no', 'no', 'no', 'no', 'no']\n"
     ]
    }
   ],
   "source": [
    "query = queries[0]\n",
    "kb_id = 'PUSBK6A7DJ'\n",
    "for query in queries:\n",
    "    start_time = time.time()\n",
    "    ori_lang = detect_language(query)\n",
    "    elapsed_time = time.time() - start_time\n",
    "    print(f\"Time taken for language detection: {elapsed_time} seconds\")\n",
    "    start_time = time.time()\n",
    "    if ori_lang.lower() not in ['en', 'english']:\n",
    "        query = translate(query,lang=\"English\")\n",
    "    elapsed_time = time.time() - start_time\n",
    "    print(f\"Time taken for language translation: {elapsed_time} seconds\")\n",
    "    start_time = time.time()\n",
    "    PII_exists = await checkPII(query)\n",
    "    elapsed_time = time.time() - start_time\n",
    "    print(f\"Time taken for PII check: {elapsed_time} seconds\")\n",
    "    print (query, ori_lang, PII_exists)\n",
    "    start_time = time.time()\n",
    "    response = retrieveFromKB(query, kb_id, 5)\n",
    "    retrievalResults = response['retrievalResults']\n",
    "    print([x['metadata']['Short description'] for x in retrievalResults])\n",
    "    elapsed_time = time.time() - start_time\n",
    "    print(f\"Time taken for retrieval: {elapsed_time} seconds\")\n",
    "    start_time = time.time()\n",
    "    print(check_permission(retrievalResults,'Candidate','India', ))\n"
   ]
  },
  {
   "cell_type": "code",
   "execution_count": 5,
   "id": "734b858a-744c-4dbb-a170-9ecf1e85f4e3",
   "metadata": {},
   "outputs": [
    {
     "data": {
      "text/plain": [
       "{'ResponseMetadata': {'RequestId': '8TNMFY0VS1BBC28M',\n",
       "  'HostId': '4kFx2rz4voNkpBlwSnvYx7Dn642nS7grah1sC3qMdb9a2t3FPIpWmbf6iDIphHZT4O1jasUQ0co=',\n",
       "  'HTTPStatusCode': 200,\n",
       "  'HTTPHeaders': {'x-amz-id-2': '4kFx2rz4voNkpBlwSnvYx7Dn642nS7grah1sC3qMdb9a2t3FPIpWmbf6iDIphHZT4O1jasUQ0co=',\n",
       "   'x-amz-request-id': '8TNMFY0VS1BBC28M',\n",
       "   'date': 'Wed, 17 Apr 2024 21:56:55 GMT',\n",
       "   'x-amz-server-side-encryption': 'AES256',\n",
       "   'etag': '\"ef1329e516f854b1228cb8769d739328\"',\n",
       "   'server': 'AmazonS3',\n",
       "   'content-length': '0'},\n",
       "  'RetryAttempts': 0},\n",
       " 'ETag': '\"ef1329e516f854b1228cb8769d739328\"',\n",
       " 'ServerSideEncryption': 'AES256'}"
      ]
     },
     "execution_count": 5,
     "metadata": {},
     "output_type": "execute_result"
    }
   ],
   "source": [
    "import boto3, json\n",
    "s3 = boto3.client('s3')\n",
    "\n",
    "\n",
    "\n",
    "bucket_name = 'genaihrpoc'\n",
    "file_name = 'sample_output.txt'\n",
    "\n",
    "s3.put_object(Bucket=bucket_name, Key=file_name, Body=json.dumps(retrievalResults))\n"
   ]
  },
  {
   "cell_type": "code",
   "execution_count": 9,
   "id": "8d8b9547-d495-4aed-ad12-de5b5cf1e054",
   "metadata": {
    "tags": []
   },
   "outputs": [
    {
     "data": {
      "text/plain": [
       "'Day 1 Other Info - Mexico (LE 0330, 0341, 0356, 0357, 0395)'"
      ]
     },
     "execution_count": 9,
     "metadata": {},
     "output_type": "execute_result"
    }
   ],
   "source": [
    "retrievalResults[0]['metadata']['Short description']"
   ]
  },
  {
   "cell_type": "code",
   "execution_count": null,
   "id": "9b2bfd0b-578f-4505-9d72-2586530a40e7",
   "metadata": {},
   "outputs": [],
   "source": []
  }
 ],
 "metadata": {
  "kernelspec": {
   "display_name": "conda_bhenv",
   "language": "python",
   "name": "conda_bhenv"
  },
  "language_info": {
   "codemirror_mode": {
    "name": "ipython",
    "version": 3
   },
   "file_extension": ".py",
   "mimetype": "text/x-python",
   "name": "python",
   "nbconvert_exporter": "python",
   "pygments_lexer": "ipython3",
   "version": "3.10.12"
  }
 },
 "nbformat": 4,
 "nbformat_minor": 5
}
