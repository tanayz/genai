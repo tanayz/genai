{
 "cells": [
  {
   "cell_type": "markdown",
   "metadata": {},
   "source": [
    "[LangChain’s Router Chains and Callbacks](https://medium.com/@gil.fernandes/langchains-router-chains-and-callbacks-722524c4aa42)"
   ]
  },
  {
   "cell_type": "code",
   "execution_count": 1,
   "metadata": {},
   "outputs": [],
   "source": [
    "from langchain.chains.router import MultiPromptChain\n",
    "from langchain.chains import ConversationChain\n",
    "from langchain.chains.llm import LLMChain\n",
    "from langchain.prompts import PromptTemplate\n",
    "\n",
    "from langchain.chains.router.llm_router import LLMRouterChain, RouterOutputParser\n",
    "from langchain.chains.router.multi_prompt_prompt import MULTI_PROMPT_ROUTER_TEMPLATE\n",
    "\n",
    "from prompt_toolkit import HTML, prompt\n",
    "import langchain.callbacks\n",
    "\n",
    "langchain.callbacks.StdOutCallbackHandler\n",
    "\n",
    "from FileCallbackHandler import FileCallbackHandler\n",
    "from langchain.llms.bedrock import Bedrock\n",
    "from pathlib import Path\n",
    "\n",
    "file_ballback_handler = FileCallbackHandler(Path('router_chain.txt'), print_prompts=True)"
   ]
  },
  {
   "cell_type": "code",
   "execution_count": 2,
   "metadata": {},
   "outputs": [],
   "source": [
    "class Config(): \n",
    "    llm = Bedrock(model_id=\"anthropic.claude-v2:1\",  model_kwargs={'max_tokens_to_sample':200})\n",
    "\n",
    "cfg = Config()"
   ]
  },
  {
   "cell_type": "code",
   "execution_count": 3,
   "metadata": {},
   "outputs": [],
   "source": [
    "class PromptFactory():\n",
    "    developer_template = \"\"\"You are a very smart Python programmer. \\\n",
    "    You provide answers for algorithmic and computer problems in Python. \\\n",
    "    You explain the code in a detailed manner. \\\n",
    "\n",
    "    Here is a question:\n",
    "    {input}\"\"\"\n",
    "\n",
    "    poet_template = \"\"\"You are a poet who replies to creative requests with poems in English. \\\n",
    "    You provide answers which are poems in the style of Lord Byron or Shakespeare. \\\n",
    "\n",
    "    Here is a question:\n",
    "    {input}\"\"\"\n",
    "\n",
    "    wiki_template = \"\"\"You are a Wikipedia expert. \\\n",
    "    You answer common knowledge questions based on Wikipedia knowledge. \\\n",
    "    Your explanations are detailed and in plain English.\n",
    "\n",
    "    Here is a question:\n",
    "    {input}\"\"\"\n",
    "\n",
    "    image_creator_template = \"\"\"You create a creator of images. \\\n",
    "    You provide graphic representations of answers using SVG images.\n",
    "\n",
    "    Here is a question:\n",
    "    {input}\"\"\"\n",
    "\n",
    "    legal_expert_template = \"\"\"You are a UK or US legal expert. \\\n",
    "    You explain questions related to the UK or US legal systems in an accessible language \\\n",
    "    with a good number of examples.\n",
    "\n",
    "    Here is a question:\n",
    "    {input}\"\"\"\n",
    "\n",
    "\n",
    "\n",
    "    prompt_infos = [\n",
    "        {\n",
    "            'name': 'python programmer',\n",
    "            'description': 'Good for questions about coding and algorithms',\n",
    "            'prompt_template': developer_template\n",
    "        },\n",
    "        {\n",
    "            'name': 'poet',\n",
    "            'description': 'Good for generating poems for creative questions',\n",
    "            'prompt_template': poet_template\n",
    "        },\n",
    "        {\n",
    "            'name': 'wikipedia expert',\n",
    "            'description': 'Good for answering questions about general knowledge',\n",
    "            'prompt_template': wiki_template\n",
    "        },\n",
    "        {\n",
    "            'name': 'graphical artist',\n",
    "            'description': 'Good for answering questions which require an image output',\n",
    "            'prompt_template': image_creator_template\n",
    "        },\n",
    "        {\n",
    "            'name': 'legal expert',\n",
    "            'description': 'Good for answering questions which are related to UK or US law',\n",
    "            'prompt_template': legal_expert_template\n",
    "        }\n",
    "    ]\n"
   ]
  },
  {
   "cell_type": "code",
   "execution_count": 4,
   "metadata": {},
   "outputs": [],
   "source": [
    "def generate_destination_chains():\n",
    "    \"\"\"\n",
    "    Creates a list of LLM chains with different prompt templates.\n",
    "    \"\"\"\n",
    "    prompt_factory = PromptFactory()\n",
    "    destination_chains = {}\n",
    "    for p_info in prompt_factory.prompt_infos:\n",
    "        name = p_info['name']\n",
    "        prompt_template = p_info['prompt_template']\n",
    "        chain = LLMChain(\n",
    "            llm=cfg.llm, \n",
    "            prompt=PromptTemplate(template=prompt_template, input_variables=['input']))\n",
    "        destination_chains[name] = chain\n",
    "    default_chain = ConversationChain(llm=cfg.llm, output_key=\"text\")\n",
    "    return prompt_factory.prompt_infos, destination_chains, default_chain"
   ]
  },
  {
   "cell_type": "code",
   "execution_count": 5,
   "metadata": {},
   "outputs": [],
   "source": [
    "def generate_router_chain(prompt_infos, destination_chains, default_chain):\n",
    "    \"\"\"\n",
    "    Generats the router chains from the prompt infos.\n",
    "    :param prompt_infos The prompt informations generated above.\n",
    "    \"\"\"\n",
    "    destinations = [f\"{p['name']}: {p['description']}\" for p in prompt_infos]\n",
    "    destinations_str = '\\n'.join(destinations)\n",
    "    router_template = MULTI_PROMPT_ROUTER_TEMPLATE.format(destinations=destinations_str)\n",
    "    router_prompt = PromptTemplate(\n",
    "        template=router_template,\n",
    "        input_variables=['input'],\n",
    "        output_parser=RouterOutputParser()\n",
    "    )\n",
    "    router_chain = LLMRouterChain.from_llm(cfg.llm, router_prompt)\n",
    "    return MultiPromptChain(\n",
    "        router_chain=router_chain,\n",
    "        destination_chains=destination_chains,\n",
    "        default_chain=default_chain,\n",
    "        verbose=True,\n",
    "        callbacks=[file_ballback_handler]\n",
    "    )"
   ]
  },
  {
   "cell_type": "code",
   "execution_count": 6,
   "metadata": {},
   "outputs": [
    {
     "name": "stderr",
     "output_type": "stream",
     "text": [
      "/Users/tanaycho/anaconda3/envs/genai/lib/python3.11/site-packages/langchain_core/_api/deprecation.py:117: LangChainDeprecationWarning: The function `run` was deprecated in LangChain 0.1.0 and will be removed in 0.2.0. Use invoke instead.\n",
      "  warn_deprecated(\n",
      "/Users/tanaycho/anaconda3/envs/genai/lib/python3.11/site-packages/langchain/chains/llm.py:316: UserWarning: The predict_and_parse method is deprecated, instead pass an output parser directly to LLMChain.\n",
      "  warnings.warn(\n"
     ]
    },
    {
     "name": "stdout",
     "output_type": "stream",
     "text": [
      "\n",
      "\n",
      "\u001b[1m> Entering new MultiPromptChain chain...\u001b[0m\n",
      "legal expert: {'input': 'Is it ok to open a company in h1b visa status in the US?'}\n",
      "\u001b[1m> Finished chain.\u001b[0m\n",
      " Sure, it is generally permissible for someone on an H-1B visa to open a company in the United States, with a few important caveats:\n",
      "\n",
      "- The company must be set up such that the H-1B visa holder does not violate the terms of their visa status. This means they cannot be an employee of their own company, since the H-1B visa requires them to work for the petitioning employer. \n",
      "\n",
      "- However, the H-1B visa holder can own a company and even manage its operations and strategy. They simply cannot officially be an employee on the payroll who receives a salary. Typically they would be a passive investor or unpaid director/officer of the company.\n",
      "\n",
      "- The company itself must comply with all normal state and federal regulations for its business operations and corporate structure. The visa status of its founder or owner does not exempt it from any requirements. \n",
      "\n",
      "- If the H-1B visa holder will be performing any day-\n",
      "\n"
     ]
    }
   ],
   "source": [
    "prompt_infos, destination_chains, default_chain = generate_destination_chains()\n",
    "chain = generate_router_chain(prompt_infos, destination_chains, default_chain)\n",
    "result = chain.run('Is it ok to open a company in h1b')\n",
    "print(result)\n",
    "print()"
   ]
  },
  {
   "cell_type": "code",
   "execution_count": null,
   "metadata": {},
   "outputs": [],
   "source": []
  }
 ],
 "metadata": {
  "kernelspec": {
   "display_name": "genai",
   "language": "python",
   "name": "python3"
  },
  "language_info": {
   "codemirror_mode": {
    "name": "ipython",
    "version": 3
   },
   "file_extension": ".py",
   "mimetype": "text/x-python",
   "name": "python",
   "nbconvert_exporter": "python",
   "pygments_lexer": "ipython3",
   "version": "3.11.5"
  }
 },
 "nbformat": 4,
 "nbformat_minor": 2
}
